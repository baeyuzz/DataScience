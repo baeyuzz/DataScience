{
  "nbformat": 4,
  "nbformat_minor": 0,
  "metadata": {
    "colab": {
      "name": "190711-1catsdogs",
      "provenance": []
    },
    "kernelspec": {
      "name": "python2",
      "display_name": "Python 2"
    },
    "accelerator": "GPU"
  },
  "cells": [
    {
      "cell_type": "code",
      "metadata": {
        "id": "JYvQ8DzchA13",
        "colab_type": "code",
        "colab": {}
      },
      "source": [
        "from keras.models import Sequential\n",
        "from keras.layers import Conv2D\n",
        "from keras.layers import MaxPooling2D\n",
        "from keras.layers import Flatten\n",
        "from keras.layers import Dense, Dropout"
      ],
      "execution_count": null,
      "outputs": []
    },
    {
      "cell_type": "code",
      "metadata": {
        "id": "WzkWJ7QChNkp",
        "colab_type": "code",
        "colab": {}
      },
      "source": [
        "classifier = Sequential()\n",
        "\n",
        "# Convolution\n",
        "classifier.add(Conv2D(32,(3,3),input_shape=(32,32,3), activation = 'relu'))\n",
        "\n",
        "# Pooling\n",
        "classifier.add(MaxPooling2D(pool_size = (2,2)))\n",
        "classifier.add(Dropout(0.2))\n",
        "\n",
        "# 2nd conv layer\n",
        "classifier.add(Conv2D(64,(3,3),activation = 'relu'))\n",
        "classifier.add(MaxPooling2D(pool_size = (2,2)))\n",
        "classifier.add(Dropout(0.3))\n",
        "\n",
        "# flattening\n",
        "classifier.add(Flatten())\n",
        "\n",
        "# full connection\n",
        "classifier.add(Dense(units = 128, activation = 'relu'))\n",
        "classifier.add(Dropout(0.4))\n",
        "classifier.add(Dense(units = 1, activation = 'sigmoid'))\n",
        "\n",
        "#compiling\n",
        "classifier.compile(optimizer = 'adam', loss = 'binary_crossentropy', metrics = ['accuracy'])"
      ],
      "execution_count": null,
      "outputs": []
    },
    {
      "cell_type": "code",
      "metadata": {
        "id": "9423rDIGkZWX",
        "colab_type": "code",
        "colab": {
          "base_uri": "https://localhost:8080/",
          "height": 35
        },
        "outputId": "663ab82f-3c8c-4303-a4fb-4fd9f65dd8af"
      },
      "source": [
        "from google.colab import auth\n",
        "auth.authenticate_user()\n",
        "from google.colab import drive\n",
        "drive.mount('/content/gdrive')"
      ],
      "execution_count": null,
      "outputs": [
        {
          "output_type": "stream",
          "text": [
            "Drive already mounted at /content/gdrive; to attempt to forcibly remount, call drive.mount(\"/content/gdrive\", force_remount=True).\n"
          ],
          "name": "stdout"
        }
      ]
    },
    {
      "cell_type": "code",
      "metadata": {
        "id": "Wuim129kqgMU",
        "colab_type": "code",
        "colab": {
          "base_uri": "https://localhost:8080/",
          "height": 54
        },
        "outputId": "56dabf9a-11b2-43b6-dd44-a0dc5f52807e"
      },
      "source": [
        "cd gdrive/My Drive/Colab Notebooks"
      ],
      "execution_count": null,
      "outputs": [
        {
          "output_type": "stream",
          "text": [
            "[Errno 2] No such file or directory: 'gdrive/My Drive/Colab Notebooks'\n",
            "/content/gdrive/My Drive/Colab Notebooks\n"
          ],
          "name": "stdout"
        }
      ]
    },
    {
      "cell_type": "code",
      "metadata": {
        "id": "egk2QGL7ikDA",
        "colab_type": "code",
        "colab": {
          "base_uri": "https://localhost:8080/",
          "height": 181
        },
        "outputId": "731607df-266b-41d1-f5f2-f62a9d160c56"
      },
      "source": [
        "from keras.preprocessing.image import ImageDataGenerator\n",
        "trainDataGen = ImageDataGenerator(rescale = 1./255, shear_range = 0.2, zoom_range = 0.2, horizontal_flip = True) # augmentation 함\n",
        "testDataGen = ImageDataGenerator(rescale = 1./255) # 원본 data\n",
        "\n",
        "trainingSet = trainDataGen.flow_from_directory('./dataset/augmentation/train', target_size = (32,32,), batch_size =32, class_mode = 'binary')\n",
        "validSet = testDataGen.flow_from_directory('./dataset/augmentation/validation', target_size = (32,32,), batch_size =32, class_mode = 'binary')\n",
        "\n",
        "classifier.fit_generator(trainingSet, steps_per_epoch = 100, epochs = 3, validation_data = validSet, validation_steps = 200)"
      ],
      "execution_count": null,
      "outputs": [
        {
          "output_type": "stream",
          "text": [
            "Found 222 images belonging to 2 classes.\n",
            "Found 17 images belonging to 2 classes.\n",
            "Epoch 1/3\n",
            "100/100 [==============================] - 74s 743ms/step - loss: 0.6645 - acc: 0.5882 - val_loss: 0.6633 - val_acc: 0.5294\n",
            "Epoch 2/3\n",
            "100/100 [==============================] - 69s 694ms/step - loss: 0.5065 - acc: 0.7522 - val_loss: 0.6893 - val_acc: 0.5882\n",
            "Epoch 3/3\n",
            "100/100 [==============================] - 70s 697ms/step - loss: 0.3511 - acc: 0.8430 - val_loss: 0.7572 - val_acc: 0.5882\n"
          ],
          "name": "stdout"
        },
        {
          "output_type": "execute_result",
          "data": {
            "text/plain": [
              "<keras.callbacks.History at 0x7fc50763e990>"
            ]
          },
          "metadata": {
            "tags": []
          },
          "execution_count": 19
        }
      ]
    },
    {
      "cell_type": "code",
      "metadata": {
        "id": "RLfe9nNdqzmb",
        "colab_type": "code",
        "colab": {
          "base_uri": "https://localhost:8080/",
          "height": 163
        },
        "outputId": "6ed3a721-dff7-48c5-b618-c68504b199ac"
      },
      "source": [
        "testSet = testDataGen.flow_from_directory('./dataset/augmentation/test', target_size = (32,32,), batch_size =32, class_mode = 'binary')\n",
        "output = classifier.predict_generator(testSet, steps =1)\n",
        "print(testSet.class_indices)\n",
        "print(output)"
      ],
      "execution_count": null,
      "outputs": [
        {
          "output_type": "stream",
          "text": [
            "Found 6 images belonging to 2 classes.\n",
            "{'cats': 0, 'dogs': 1}\n",
            "[[0.01629621]\n",
            " [0.93834615]\n",
            " [0.362962  ]\n",
            " [0.78183657]\n",
            " [0.98450965]\n",
            " [0.8935917 ]]\n"
          ],
          "name": "stdout"
        }
      ]
    },
    {
      "cell_type": "code",
      "metadata": {
        "id": "ZJiEU_heENlE",
        "colab_type": "code",
        "colab": {}
      },
      "source": [
        ""
      ],
      "execution_count": null,
      "outputs": []
    }
  ]
}