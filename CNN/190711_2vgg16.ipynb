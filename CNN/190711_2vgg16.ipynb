{
  "nbformat": 4,
  "nbformat_minor": 0,
  "metadata": {
    "colab": {
      "name": "190711-2vgg16",
      "provenance": []
    },
    "kernelspec": {
      "name": "python3",
      "display_name": "Python 3"
    },
    "accelerator": "GPU"
  },
  "cells": [
    {
      "cell_type": "code",
      "metadata": {
        "id": "xscZ9hnK2oko",
        "colab_type": "code",
        "colab": {
          "base_uri": "https://localhost:8080/",
          "height": 35
        },
        "outputId": "4ae4fc54-2e7b-4bff-f853-f32e7f349ac9"
      },
      "source": [
        " from google.colab import auth\n",
        "auth.authenticate_user()\n",
        "from google.colab import drive\n",
        "drive.mount('/content/gdrive')"
      ],
      "execution_count": 1,
      "outputs": [
        {
          "output_type": "stream",
          "text": [
            "Drive already mounted at /content/gdrive; to attempt to forcibly remount, call drive.mount(\"/content/gdrive\", force_remount=True).\n"
          ],
          "name": "stdout"
        }
      ]
    },
    {
      "cell_type": "code",
      "metadata": {
        "id": "Jf1AghU7vSzt",
        "colab_type": "code",
        "colab": {
          "base_uri": "https://localhost:8080/",
          "height": 35
        },
        "outputId": "1de71bef-72d8-41ce-d474-2f32178dd075"
      },
      "source": [
        "cd gdrive/My\\ Drive"
      ],
      "execution_count": 2,
      "outputs": [
        {
          "output_type": "stream",
          "text": [
            "/content/gdrive/My Drive\n"
          ],
          "name": "stdout"
        }
      ]
    },
    {
      "cell_type": "code",
      "metadata": {
        "id": "OpwMxKzU6KCJ",
        "colab_type": "code",
        "colab": {}
      },
      "source": [
        "import os\n",
        "import numpy as np\n",
        "from keras.preprocessing.image import ImageDataGenerator"
      ],
      "execution_count": 3,
      "outputs": []
    },
    {
      "cell_type": "code",
      "metadata": {
        "id": "OLco7qfz5VcJ",
        "colab_type": "code",
        "colab": {}
      },
      "source": [
        "trainDataGen = ImageDataGenerator(rescale = 1./255)\n",
        "valDataGen = ImageDataGenerator(rescale = 1./255)\n",
        "testDataGen = ImageDataGenerator(rescale = 1./255 )\n"
      ],
      "execution_count": 4,
      "outputs": []
    },
    {
      "cell_type": "code",
      "metadata": {
        "id": "hS9qwol3mjjf",
        "colab_type": "code",
        "colab": {}
      },
      "source": [
        "baseDir = '/content/gdrive/My Drive/Colab Notebooks/CNN/dataset'\n",
        "\n",
        "trainDir = os.path.join(baseDir,'train')\n",
        "validationDir = os.path.join(baseDir,'validation')\n",
        "testDir = os.path.join(baseDir,'test')\n"
      ],
      "execution_count": 5,
      "outputs": []
    },
    {
      "cell_type": "code",
      "metadata": {
        "id": "4qcvYW7z5zfR",
        "colab_type": "code",
        "colab": {
          "base_uri": "https://localhost:8080/",
          "height": 71
        },
        "outputId": "53cf851c-f376-4e16-9fdd-60bc0ac6e2e8"
      },
      "source": [
        "trainGenerator = trainDataGen.flow_from_directory(trainDir, target_size=(224,224), batch_size = 20, class_mode='binary')\n",
        "validationGenerator = valDataGen.flow_from_directory(validationDir, target_size=(224,224), batch_size = 20, class_mode='binary')\n",
        "testGenerator = testDataGen.flow_from_directory(testDir, target_size=(224,224), batch_size = 20, class_mode='binary')\n"
      ],
      "execution_count": 6,
      "outputs": [
        {
          "output_type": "stream",
          "text": [
            "Found 335 images belonging to 2 classes.\n",
            "Found 54 images belonging to 2 classes.\n",
            "Found 16 images belonging to 2 classes.\n"
          ],
          "name": "stdout"
        }
      ]
    },
    {
      "cell_type": "code",
      "metadata": {
        "id": "-cHiDqLG5PIa",
        "colab_type": "code",
        "colab": {}
      },
      "source": [
        "from keras.layers import Input, Dense, GlobalAveragePooling2D, Flatten\n",
        "from keras.models import Model\n",
        "\n",
        "from keras.applications.vgg16 import VGG16\n",
        "from keras import models\n",
        "from keras import layers"
      ],
      "execution_count": 7,
      "outputs": []
    },
    {
      "cell_type": "code",
      "metadata": {
        "id": "S7MGQ8m526sg",
        "colab_type": "code",
        "colab": {
          "base_uri": "https://localhost:8080/",
          "height": 953
        },
        "outputId": "9d2eeb2c-63cc-4ac7-9651-f35d223242f4"
      },
      "source": [
        "VGGNet = VGG16()\n",
        "#VGGNet.summary()\n",
        "\n",
        "for layer in VGGNet.layers:\n",
        "  layer.trainable = False # 설계된 vgg16 모델의 w,b를 업데이트 안 하겠다\n",
        "  \n",
        "vgg_maxpool5 = VGGNet.get_layer('block5_pool').output\n",
        "\n",
        "FeatureFlatten = Flatten()(vgg_maxpool5)\n",
        "dense = Dense(10, name = 'dense',activation='relu')(FeatureFlatten)\n",
        "predictions = Dense(1,activation = 'sigmoid')(dense)\n",
        "New_VGGmodel = Model(inputs = VGGNet.input, outputs = predictions)\n",
        "New_VGGmodel.compile(optimizer = 'rmsprop',loss='binary_crossentropy', metrics = ['accuracy'])\n",
        "\n",
        "New_VGGmodel.summary()"
      ],
      "execution_count": 9,
      "outputs": [
        {
          "output_type": "stream",
          "text": [
            "Model: \"functional_2\"\n",
            "_________________________________________________________________\n",
            "Layer (type)                 Output Shape              Param #   \n",
            "=================================================================\n",
            "input_2 (InputLayer)         [(None, 224, 224, 3)]     0         \n",
            "_________________________________________________________________\n",
            "block1_conv1 (Conv2D)        (None, 224, 224, 64)      1792      \n",
            "_________________________________________________________________\n",
            "block1_conv2 (Conv2D)        (None, 224, 224, 64)      36928     \n",
            "_________________________________________________________________\n",
            "block1_pool (MaxPooling2D)   (None, 112, 112, 64)      0         \n",
            "_________________________________________________________________\n",
            "block2_conv1 (Conv2D)        (None, 112, 112, 128)     73856     \n",
            "_________________________________________________________________\n",
            "block2_conv2 (Conv2D)        (None, 112, 112, 128)     147584    \n",
            "_________________________________________________________________\n",
            "block2_pool (MaxPooling2D)   (None, 56, 56, 128)       0         \n",
            "_________________________________________________________________\n",
            "block3_conv1 (Conv2D)        (None, 56, 56, 256)       295168    \n",
            "_________________________________________________________________\n",
            "block3_conv2 (Conv2D)        (None, 56, 56, 256)       590080    \n",
            "_________________________________________________________________\n",
            "block3_conv3 (Conv2D)        (None, 56, 56, 256)       590080    \n",
            "_________________________________________________________________\n",
            "block3_pool (MaxPooling2D)   (None, 28, 28, 256)       0         \n",
            "_________________________________________________________________\n",
            "block4_conv1 (Conv2D)        (None, 28, 28, 512)       1180160   \n",
            "_________________________________________________________________\n",
            "block4_conv2 (Conv2D)        (None, 28, 28, 512)       2359808   \n",
            "_________________________________________________________________\n",
            "block4_conv3 (Conv2D)        (None, 28, 28, 512)       2359808   \n",
            "_________________________________________________________________\n",
            "block4_pool (MaxPooling2D)   (None, 14, 14, 512)       0         \n",
            "_________________________________________________________________\n",
            "block5_conv1 (Conv2D)        (None, 14, 14, 512)       2359808   \n",
            "_________________________________________________________________\n",
            "block5_conv2 (Conv2D)        (None, 14, 14, 512)       2359808   \n",
            "_________________________________________________________________\n",
            "block5_conv3 (Conv2D)        (None, 14, 14, 512)       2359808   \n",
            "_________________________________________________________________\n",
            "block5_pool (MaxPooling2D)   (None, 7, 7, 512)         0         \n",
            "_________________________________________________________________\n",
            "flatten_1 (Flatten)          (None, 25088)             0         \n",
            "_________________________________________________________________\n",
            "dense (Dense)                (None, 10)                250890    \n",
            "_________________________________________________________________\n",
            "dense_1 (Dense)              (None, 1)                 11        \n",
            "=================================================================\n",
            "Total params: 14,965,589\n",
            "Trainable params: 250,901\n",
            "Non-trainable params: 14,714,688\n",
            "_________________________________________________________________\n"
          ],
          "name": "stdout"
        }
      ]
    },
    {
      "cell_type": "code",
      "metadata": {
        "id": "8qKPudr24dxa",
        "colab_type": "code",
        "colab": {
          "base_uri": "https://localhost:8080/",
          "height": 1000
        },
        "outputId": "5cdac1cd-4a11-4bc5-8a90-3f5c70c7795c"
      },
      "source": [
        "history = New_VGGmodel.fit(trainGenerator, steps_per_epoch=10, epochs=30, validation_data=validationGenerator)"
      ],
      "execution_count": 10,
      "outputs": [
        {
          "output_type": "stream",
          "text": [
            "Epoch 1/30\n",
            "10/10 [==============================] - 6s 574ms/step - loss: 1.1319 - accuracy: 0.5200 - val_loss: 0.6190 - val_accuracy: 0.5000\n",
            "Epoch 2/30\n",
            "10/10 [==============================] - 5s 479ms/step - loss: 0.6378 - accuracy: 0.5700 - val_loss: 0.4858 - val_accuracy: 0.9074\n",
            "Epoch 3/30\n",
            "10/10 [==============================] - 4s 444ms/step - loss: 0.4862 - accuracy: 0.7700 - val_loss: 0.5327 - val_accuracy: 0.6481\n",
            "Epoch 4/30\n",
            "10/10 [==============================] - 4s 445ms/step - loss: 0.4374 - accuracy: 0.8050 - val_loss: 0.4322 - val_accuracy: 0.7407\n",
            "Epoch 5/30\n",
            "10/10 [==============================] - 5s 495ms/step - loss: 0.3700 - accuracy: 0.8667 - val_loss: 0.4159 - val_accuracy: 0.7593\n",
            "Epoch 6/30\n",
            "10/10 [==============================] - 4s 396ms/step - loss: 0.3248 - accuracy: 0.8600 - val_loss: 0.3181 - val_accuracy: 0.8889\n",
            "Epoch 7/30\n",
            "10/10 [==============================] - 4s 431ms/step - loss: 0.2111 - accuracy: 0.9692 - val_loss: 0.2975 - val_accuracy: 0.8704\n",
            "Epoch 8/30\n",
            "10/10 [==============================] - 4s 437ms/step - loss: 0.2339 - accuracy: 0.9128 - val_loss: 0.2815 - val_accuracy: 0.8704\n",
            "Epoch 9/30\n",
            "10/10 [==============================] - 4s 390ms/step - loss: 0.1901 - accuracy: 0.9282 - val_loss: 0.2554 - val_accuracy: 0.9259\n",
            "Epoch 10/30\n",
            "10/10 [==============================] - 4s 389ms/step - loss: 0.1543 - accuracy: 0.9590 - val_loss: 0.2895 - val_accuracy: 0.8519\n",
            "Epoch 11/30\n",
            "10/10 [==============================] - 5s 500ms/step - loss: 0.1049 - accuracy: 0.9795 - val_loss: 0.5215 - val_accuracy: 0.7037\n",
            "Epoch 12/30\n",
            "10/10 [==============================] - 5s 455ms/step - loss: 0.0961 - accuracy: 0.9744 - val_loss: 0.2473 - val_accuracy: 0.8889\n",
            "Epoch 13/30\n",
            "10/10 [==============================] - 4s 419ms/step - loss: 0.1040 - accuracy: 0.9795 - val_loss: 0.2311 - val_accuracy: 0.9259\n",
            "Epoch 14/30\n",
            "10/10 [==============================] - 4s 380ms/step - loss: 0.0607 - accuracy: 0.9950 - val_loss: 0.2223 - val_accuracy: 0.8889\n",
            "Epoch 15/30\n",
            "10/10 [==============================] - 4s 400ms/step - loss: 0.1178 - accuracy: 0.9487 - val_loss: 0.3220 - val_accuracy: 0.8148\n",
            "Epoch 16/30\n",
            "10/10 [==============================] - 4s 417ms/step - loss: 0.0384 - accuracy: 1.0000 - val_loss: 0.2993 - val_accuracy: 0.8519\n",
            "Epoch 17/30\n",
            "10/10 [==============================] - 4s 422ms/step - loss: 0.0431 - accuracy: 1.0000 - val_loss: 0.2506 - val_accuracy: 0.8889\n",
            "Epoch 18/30\n",
            "10/10 [==============================] - 4s 430ms/step - loss: 0.0370 - accuracy: 1.0000 - val_loss: 0.2199 - val_accuracy: 0.9259\n",
            "Epoch 19/30\n",
            "10/10 [==============================] - 5s 469ms/step - loss: 0.0380 - accuracy: 0.9950 - val_loss: 0.4225 - val_accuracy: 0.8148\n",
            "Epoch 20/30\n",
            "10/10 [==============================] - 5s 483ms/step - loss: 0.0543 - accuracy: 0.9846 - val_loss: 0.5831 - val_accuracy: 0.7963\n",
            "Epoch 21/30\n",
            "10/10 [==============================] - 5s 488ms/step - loss: 0.0208 - accuracy: 1.0000 - val_loss: 0.2425 - val_accuracy: 0.8889\n",
            "Epoch 22/30\n",
            "10/10 [==============================] - 4s 441ms/step - loss: 0.0157 - accuracy: 1.0000 - val_loss: 0.3685 - val_accuracy: 0.8519\n",
            "Epoch 23/30\n",
            "10/10 [==============================] - 5s 473ms/step - loss: 0.0164 - accuracy: 1.0000 - val_loss: 0.2140 - val_accuracy: 0.8889\n",
            "Epoch 24/30\n",
            "10/10 [==============================] - 4s 448ms/step - loss: 0.0542 - accuracy: 0.9800 - val_loss: 0.2348 - val_accuracy: 0.8889\n",
            "Epoch 25/30\n",
            "10/10 [==============================] - 4s 423ms/step - loss: 0.0080 - accuracy: 1.0000 - val_loss: 0.2815 - val_accuracy: 0.8889\n",
            "Epoch 26/30\n",
            "10/10 [==============================] - 5s 456ms/step - loss: 0.0094 - accuracy: 1.0000 - val_loss: 0.2344 - val_accuracy: 0.8889\n",
            "Epoch 27/30\n",
            "10/10 [==============================] - 4s 450ms/step - loss: 0.0064 - accuracy: 1.0000 - val_loss: 0.5723 - val_accuracy: 0.8333\n",
            "Epoch 28/30\n",
            "10/10 [==============================] - 5s 452ms/step - loss: 0.0122 - accuracy: 1.0000 - val_loss: 0.9063 - val_accuracy: 0.7593\n",
            "Epoch 29/30\n",
            "10/10 [==============================] - 4s 413ms/step - loss: 0.0058 - accuracy: 1.0000 - val_loss: 0.3434 - val_accuracy: 0.8519\n",
            "Epoch 30/30\n",
            "10/10 [==============================] - 4s 420ms/step - loss: 0.0409 - accuracy: 0.9846 - val_loss: 0.3649 - val_accuracy: 0.8889\n"
          ],
          "name": "stdout"
        }
      ]
    },
    {
      "cell_type": "code",
      "metadata": {
        "id": "4RZ1RfM0_wyu",
        "colab_type": "code",
        "colab": {
          "base_uri": "https://localhost:8080/",
          "height": 359
        },
        "outputId": "5432f4aa-f494-4dcc-e155-125d96d95a1c"
      },
      "source": [
        "testSet = testDataGen.flow_from_directory(testDir, target_size = (224,224,), batch_size =32, class_mode = 'binary')\n",
        "output = New_VGGmodel.predict(testSet)\n",
        "print(testSet.class_indices)\n",
        "print(testSet.filenames)\n",
        "np.set_printoptions(formatter={'float': lambda x: \"{0:0.3f}\".format(x)})\n",
        "print(output)"
      ],
      "execution_count": 11,
      "outputs": [
        {
          "output_type": "stream",
          "text": [
            "Found 16 images belonging to 2 classes.\n",
            "{'cats': 0, 'dogs': 1}\n",
            "['cats/c1.jpg', 'cats/c2.JPG', 'cats/c3.jpg', 'cats/c4.jpg', 'cats/c5.jpg', 'cats/c6.jpg', 'cats/c7.jpg', 'cats/c8.jpg', 'dogs/d1.jpg', 'dogs/d2.png', 'dogs/d3.jpg', 'dogs/d4.jpg', 'dogs/d5.jpg', 'dogs/d6.jpg', 'dogs/d7.jpg', 'dogs/d8.png']\n",
            "[[0.562]\n",
            " [1.000]\n",
            " [0.000]\n",
            " [0.001]\n",
            " [0.153]\n",
            " [0.004]\n",
            " [0.000]\n",
            " [0.000]\n",
            " [0.995]\n",
            " [0.000]\n",
            " [0.000]\n",
            " [1.000]\n",
            " [0.533]\n",
            " [1.000]\n",
            " [0.944]\n",
            " [1.000]]\n"
          ],
          "name": "stdout"
        }
      ]
    },
    {
      "cell_type": "code",
      "metadata": {
        "id": "0Lxe5aImgZ27",
        "colab_type": "code",
        "colab": {
          "base_uri": "https://localhost:8080/",
          "height": 53
        },
        "outputId": "ade958f5-7f7a-451a-9fcb-5ff48833b811"
      },
      "source": [
        "loss, acc = New_VGGmodel.evaluate(testSet,verbose=0)\n",
        "print(loss)\n",
        "print(acc)"
      ],
      "execution_count": 12,
      "outputs": [
        {
          "output_type": "stream",
          "text": [
            "0.08996438980102539\n",
            "1.0\n"
          ],
          "name": "stdout"
        }
      ]
    },
    {
      "cell_type": "code",
      "metadata": {
        "id": "_T0OACZ7x9ed",
        "colab_type": "code",
        "colab": {}
      },
      "source": [
        ""
      ],
      "execution_count": null,
      "outputs": []
    }
  ]
}