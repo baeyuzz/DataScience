{
  "nbformat": 4,
  "nbformat_minor": 0,
  "metadata": {
    "colab": {
      "name": "190716-2simpleRnn.ipynb",
      "provenance": []
    },
    "kernelspec": {
      "name": "python3",
      "display_name": "Python 3"
    },
    "accelerator": "GPU"
  },
  "cells": [
    {
      "cell_type": "code",
      "metadata": {
        "id": "ECzg14BtgEse"
      },
      "source": [
        "# rnn -> (batch, timestep, vector, pixel) 로 구성되어 있음"
      ],
      "execution_count": 1,
      "outputs": []
    },
    {
      "cell_type": "code",
      "metadata": {
        "id": "ByL9fxVIhlfA"
      },
      "source": [
        "from __future__ import print_function\n",
        "\n",
        "import keras\n",
        "from keras.datasets import mnist\n",
        "from keras.models import Model\n",
        "from keras.layers import Input, Dense, TimeDistributed\n",
        "from keras.layers import LSTM, SimpleRNN"
      ],
      "execution_count": 2,
      "outputs": []
    },
    {
      "cell_type": "code",
      "metadata": {
        "id": "wmylPvuKh21P",
        "outputId": "6d0471d6-d7aa-4156-fbf1-113d4e73e29b",
        "colab": {
          "base_uri": "https://localhost:8080/"
        }
      },
      "source": [
        "batchSize = 32\n",
        "numClasses = 10\n",
        "epochs = 5\n",
        "\n",
        "# embedding dims\n",
        "rowHidden = 128\n",
        "colHidden = 128\n",
        "\n",
        "(xTrain, yTrain),(xTest, yTest) = mnist.load_data()"
      ],
      "execution_count": 3,
      "outputs": [
        {
          "output_type": "stream",
          "text": [
            "Downloading data from https://storage.googleapis.com/tensorflow/tf-keras-datasets/mnist.npz\n",
            "11493376/11490434 [==============================] - 0s 0us/step\n"
          ],
          "name": "stdout"
        }
      ]
    },
    {
      "cell_type": "code",
      "metadata": {
        "id": "_T8ZCNzgiGbu",
        "outputId": "bd24c54a-0b00-4456-e389-536e719f9062",
        "colab": {
          "base_uri": "https://localhost:8080/"
        }
      },
      "source": [
        "xTrain = xTrain.reshape(xTrain.shape[0],28,28,1) # data # sequence, vector, pixel 순서\n",
        "xTest = xTest.reshape(xTest.shape[0], 28,28,1)\n",
        "xTrain = xTrain.astype('float32')\n",
        "xTest = xTest.astype('float32')\n",
        "xTrain /= 255\n",
        "xTest /= 255\n",
        "\n",
        "print(\"xTrain shape : \",xTrain.shape)\n",
        "print(xTrain.shape[0], \"train samples\")\n",
        "print(xTest.shape[0], \"test samples\")"
      ],
      "execution_count": 4,
      "outputs": [
        {
          "output_type": "stream",
          "text": [
            "xTrain shape :  (60000, 28, 28, 1)\n",
            "60000 train samples\n",
            "10000 test samples\n"
          ],
          "name": "stdout"
        }
      ]
    },
    {
      "cell_type": "code",
      "metadata": {
        "id": "HV--QGA0infd"
      },
      "source": [
        "yTrain = keras.utils.to_categorical(yTrain, numClasses)\n",
        "yTest = keras.utils.to_categorical(yTest, numClasses)"
      ],
      "execution_count": 5,
      "outputs": []
    },
    {
      "cell_type": "code",
      "metadata": {
        "id": "qJbhnPSQi1q-"
      },
      "source": [
        "vector, dim, pixel = xTrain.shape[1:] # 60000, 28, 28, 1 에서 60000 빼고?\n",
        "x = Input(shape=(vector, dim, pixel)) # none, 28, 28, 1 인 셈, 앞에 나중에 batch size 추가"
      ],
      "execution_count": 6,
      "outputs": []
    },
    {
      "cell_type": "code",
      "metadata": {
        "id": "SGEuBnwki-8G"
      },
      "source": [
        "encodedRows = TimeDistributed(SimpleRNN(rowHidden))(x) # x = none, 28, 28, 1"
      ],
      "execution_count": 7,
      "outputs": []
    },
    {
      "cell_type": "code",
      "metadata": {
        "id": "v53Ws10jjERG"
      },
      "source": [
        "encodedCols = SimpleRNN(colHidden)(encodedRows) "
      ],
      "execution_count": 8,
      "outputs": []
    },
    {
      "cell_type": "code",
      "metadata": {
        "id": "HeYdAji0jKVm"
      },
      "source": [
        "prediction = Dense(10,activation = 'softmax')(encodedCols)\n",
        "model = Model(inputs = x, outputs = prediction)\n",
        "model.compile(loss='categorical_crossentropy', optimizer = 'rmsprop',metrics = ['accuracy'])"
      ],
      "execution_count": 9,
      "outputs": []
    },
    {
      "cell_type": "code",
      "metadata": {
        "id": "kOBZJZ6zjRUO",
        "outputId": "2b5d8de6-c0d2-4731-e39c-59841017de82",
        "colab": {
          "base_uri": "https://localhost:8080/"
        }
      },
      "source": [
        "model.summary()"
      ],
      "execution_count": 10,
      "outputs": [
        {
          "output_type": "stream",
          "text": [
            "Model: \"functional_1\"\n",
            "_________________________________________________________________\n",
            "Layer (type)                 Output Shape              Param #   \n",
            "=================================================================\n",
            "input_1 (InputLayer)         [(None, 28, 28, 1)]       0         \n",
            "_________________________________________________________________\n",
            "time_distributed (TimeDistri (None, 28, 128)           16640     \n",
            "_________________________________________________________________\n",
            "simple_rnn_1 (SimpleRNN)     (None, 128)               32896     \n",
            "_________________________________________________________________\n",
            "dense (Dense)                (None, 10)                1290      \n",
            "=================================================================\n",
            "Total params: 50,826\n",
            "Trainable params: 50,826\n",
            "Non-trainable params: 0\n",
            "_________________________________________________________________\n"
          ],
          "name": "stdout"
        }
      ]
    },
    {
      "cell_type": "code",
      "metadata": {
        "id": "0SVN7W4njQFe",
        "outputId": "7258cfd4-e347-44a8-936f-94aaec72dbe6",
        "colab": {
          "base_uri": "https://localhost:8080/"
        }
      },
      "source": [
        "model.fit(xTrain, yTrain, batch_size=batchSize, epochs = epochs, verbose = 1, validation_data= (xTest, yTest))"
      ],
      "execution_count": 11,
      "outputs": [
        {
          "output_type": "stream",
          "text": [
            "Epoch 1/5\n",
            "1875/1875 [==============================] - 43s 23ms/step - loss: 0.5317 - accuracy: 0.8350 - val_loss: 0.2299 - val_accuracy: 0.9333\n",
            "Epoch 2/5\n",
            "1875/1875 [==============================] - 43s 23ms/step - loss: 0.4366 - accuracy: 0.8631 - val_loss: 0.2278 - val_accuracy: 0.9360\n",
            "Epoch 3/5\n",
            "1875/1875 [==============================] - 43s 23ms/step - loss: 0.5014 - accuracy: 0.8460 - val_loss: 0.2949 - val_accuracy: 0.9128\n",
            "Epoch 4/5\n",
            "1875/1875 [==============================] - 43s 23ms/step - loss: 0.2328 - accuracy: 0.9330 - val_loss: 0.1762 - val_accuracy: 0.9499\n",
            "Epoch 5/5\n",
            "1875/1875 [==============================] - 44s 24ms/step - loss: 0.2493 - accuracy: 0.9305 - val_loss: 0.1531 - val_accuracy: 0.9597\n"
          ],
          "name": "stdout"
        },
        {
          "output_type": "execute_result",
          "data": {
            "text/plain": [
              "<tensorflow.python.keras.callbacks.History at 0x7fd56f71b5c0>"
            ]
          },
          "metadata": {
            "tags": []
          },
          "execution_count": 11
        }
      ]
    },
    {
      "cell_type": "code",
      "metadata": {
        "id": "wjNv1i5onbab",
        "outputId": "233dae29-f5cd-4d17-c93f-8617236d4cd6",
        "colab": {
          "base_uri": "https://localhost:8080/"
        }
      },
      "source": [
        "scores = model.evaluate(xTest, yTest, verbose = 0)\n",
        "print(\"test loss : \", scores[0])\n",
        "print(\"test acc : \", scores[1])"
      ],
      "execution_count": 12,
      "outputs": [
        {
          "output_type": "stream",
          "text": [
            "test loss :  0.15311308205127716\n",
            "test acc :  0.9596999883651733\n"
          ],
          "name": "stdout"
        }
      ]
    },
    {
      "cell_type": "code",
      "metadata": {
        "id": "EPnwZm0jnpM9"
      },
      "source": [
        ""
      ],
      "execution_count": null,
      "outputs": []
    }
  ]
}