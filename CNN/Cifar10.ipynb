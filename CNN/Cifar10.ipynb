{
  "nbformat": 4,
  "nbformat_minor": 0,
  "metadata": {
    "colab": {
      "name": "Cifar10.ipynb",
      "provenance": [],
      "collapsed_sections": []
    },
    "kernelspec": {
      "display_name": "Python 3.6 on Backend.AI",
      "language": "python",
      "name": "python3"
    },
    "language_info": {
      "codemirror_mode": {
        "name": "ipython",
        "version": 3
      },
      "file_extension": ".py",
      "mimetype": "text/x-python",
      "name": "python",
      "nbconvert_exporter": "python",
      "pygments_lexer": "ipython3",
      "version": "3.6.7"
    }
  },
  "cells": [
    {
      "cell_type": "code",
      "metadata": {
        "colab_type": "code",
        "id": "QHMtnYN4JbzR",
        "colab": {
          "base_uri": "https://localhost:8080/",
          "height": 35
        },
        "outputId": "160030a9-892c-4c00-a716-6803dbf4240b"
      },
      "source": [
        "from __future__ import print_function\n",
        "import keras\n",
        "from keras.datasets import cifar10\n",
        "from keras.preprocessing.image import ImageDataGenerator\n",
        "from keras.models import Sequential\n",
        "from keras.layers import Dense, Dropout, Activation, Flatten\n",
        "from keras.layers import Conv2D, MaxPooling2D\n",
        "\n",
        "import os"
      ],
      "execution_count": null,
      "outputs": [
        {
          "output_type": "stream",
          "text": [
            "Using TensorFlow backend.\n"
          ],
          "name": "stderr"
        }
      ]
    },
    {
      "cell_type": "code",
      "metadata": {
        "colab_type": "code",
        "id": "xN76jTnaJku7",
        "colab": {}
      },
      "source": [
        "batch_size = 32\n",
        "num_classes = 10\n",
        "epochs = 20\n",
        "data_augmentation = False\n",
        "num_predictions = 20\n"
      ],
      "execution_count": null,
      "outputs": []
    },
    {
      "cell_type": "code",
      "metadata": {
        "colab_type": "code",
        "id": "BuwjP0yeJlyu",
        "colab": {
          "base_uri": "https://localhost:8080/",
          "height": 124
        },
        "outputId": "18a3eab4-6744-43e6-8775-59169aac2e6a"
      },
      "source": [
        "# The data, split between train and test sets:\n",
        "(x_train, y_train), (x_test, y_test) = cifar10.load_data()\n",
        "print('x_train shape:', x_train.shape)\n",
        "print(x_train.shape[0], 'train samples')\n",
        "print(x_test.shape[0], 'test samples')"
      ],
      "execution_count": null,
      "outputs": [
        {
          "output_type": "stream",
          "text": [
            "x_train shape: (50000, 32, 32, 3)\n",
            "50000 train samples\n",
            "10000 test samples\n"
          ],
          "name": "stdout"
        }
      ]
    },
    {
      "cell_type": "code",
      "metadata": {
        "colab_type": "code",
        "id": "ICtLv_uZJoXe",
        "colab": {}
      },
      "source": [
        "y_train = keras.utils.to_categorical(y_train, num_classes)\n",
        "y_test = keras.utils.to_categorical(y_test, num_classes)"
      ],
      "execution_count": null,
      "outputs": []
    },
    {
      "cell_type": "code",
      "metadata": {
        "colab_type": "code",
        "id": "-rfn1qzqJ5dW",
        "colab": {}
      },
      "source": [
        "x_train = x_train.astype('float32')\n",
        "x_test = x_test.astype('float32')\n",
        "x_train /= 255\n",
        "x_test /= 255"
      ],
      "execution_count": null,
      "outputs": []
    },
    {
      "cell_type": "markdown",
      "metadata": {
        "colab_type": "text",
        "id": "iDFttU7cJvdh"
      },
      "source": [
        "네트워크를 직접 설계해 보세요!"
      ]
    },
    {
      "cell_type": "code",
      "metadata": {
        "colab_type": "code",
        "id": "qMF9TgYlJvFq",
        "scrolled": false,
        "colab": {
          "base_uri": "https://localhost:8080/",
          "height": 73
        },
        "outputId": "70ebd5a1-d0bf-4f6a-b8cb-a68eb725bcd2"
      },
      "source": [
        "model = Sequential()\n",
        "model.add(Conv2D(64,(3,3),input_shape=(32,32,3),activation = 'relu')) #3,3 은 필터 크기?\n",
        "model.add(MaxPooling2D(pool_size = (2,2)))\n",
        "\n",
        "model.add(Conv2D(64,(3,3),activation = 'relu',padding='same'))\n",
        "model.add(Conv2D(64,(3,3),activation = 'relu',padding='same'))\n",
        "model.add(MaxPooling2D(pool_size = (2,2)))\n",
        "model.add(Dropout(0.1))\n",
        "\n",
        "model.add(Conv2D(64,(3,3),activation = 'relu',padding='same'))\n",
        "model.add(Conv2D(128,(3,3),activation = 'relu',padding='same'))\n",
        "model.add(MaxPooling2D(pool_size = (2,2)))\n",
        "model.add(Dropout(0.2))\n",
        "\n",
        "model.add(Flatten())\n",
        "model.add(Dense(128, activation = 'relu'))\n",
        "model.add(Dropout(0.3))\n",
        "model.add(Dense(units=10,activation = 'softmax'))\n"
      ],
      "execution_count": null,
      "outputs": [
        {
          "output_type": "stream",
          "text": [
            "WARNING: Logging before flag parsing goes to stderr.\n",
            "W0712 04:17:29.981919 140550987459968 deprecation_wrapper.py:119] From /home/work/.local/lib/python3.6/site-packages/keras/backend/tensorflow_backend.py:74: The name tf.get_default_graph is deprecated. Please use tf.compat.v1.get_default_graph instead.\n",
            "\n",
            "W0712 04:17:29.998586 140550987459968 deprecation_wrapper.py:119] From /home/work/.local/lib/python3.6/site-packages/keras/backend/tensorflow_backend.py:517: The name tf.placeholder is deprecated. Please use tf.compat.v1.placeholder instead.\n",
            "\n",
            "W0712 04:17:30.002579 140550987459968 deprecation_wrapper.py:119] From /home/work/.local/lib/python3.6/site-packages/keras/backend/tensorflow_backend.py:4138: The name tf.random_uniform is deprecated. Please use tf.random.uniform instead.\n",
            "\n",
            "W0712 04:17:30.016067 140550987459968 deprecation_wrapper.py:119] From /home/work/.local/lib/python3.6/site-packages/keras/backend/tensorflow_backend.py:3976: The name tf.nn.max_pool is deprecated. Please use tf.nn.max_pool2d instead.\n",
            "\n",
            "W0712 04:17:30.041393 140550987459968 deprecation_wrapper.py:119] From /home/work/.local/lib/python3.6/site-packages/keras/backend/tensorflow_backend.py:133: The name tf.placeholder_with_default is deprecated. Please use tf.compat.v1.placeholder_with_default instead.\n",
            "\n",
            "W0712 04:17:30.049588 140550987459968 deprecation.py:506] From /home/work/.local/lib/python3.6/site-packages/keras/backend/tensorflow_backend.py:3445: calling dropout (from tensorflow.python.ops.nn_ops) with keep_prob is deprecated and will be removed in a future version.\n",
            "Instructions for updating:\n",
            "Please use `rate` instead of `keep_prob`. Rate should be set to `rate = 1 - keep_prob`.\n"
          ],
          "name": "stderr"
        }
      ]
    },
    {
      "cell_type": "code",
      "metadata": {
        "colab_type": "code",
        "id": "NT5sENY6KNrG",
        "colab": {}
      },
      "source": [
        "opt = keras.optimizers.rmsprop(lr=0.0001, decay=1e-6)"
      ],
      "execution_count": null,
      "outputs": []
    },
    {
      "cell_type": "code",
      "metadata": {
        "colab_type": "code",
        "id": "Zd1E5FY4JqQG",
        "colab": {
          "base_uri": "https://localhost:8080/",
          "height": 108
        },
        "outputId": "854168a4-7809-48ca-8e6f-3af5e11cbd78"
      },
      "source": [
        "# Let's train the model using RMSprop\n",
        "model.compile(loss='categorical_crossentropy',\n",
        "              optimizer=opt,\n",
        "              metrics=['accuracy'])"
      ],
      "execution_count": null,
      "outputs": [
        {
          "output_type": "stream",
          "text": [
            "W0712 04:17:31.370630 140550987459968 deprecation_wrapper.py:119] From /home/work/.local/lib/python3.6/site-packages/keras/optimizers.py:790: The name tf.train.Optimizer is deprecated. Please use tf.compat.v1.train.Optimizer instead.\n",
            "\n",
            "W0712 04:17:31.382128 140550987459968 deprecation_wrapper.py:119] From /home/work/.local/lib/python3.6/site-packages/keras/backend/tensorflow_backend.py:3295: The name tf.log is deprecated. Please use tf.math.log instead.\n",
            "\n"
          ],
          "name": "stderr"
        }
      ]
    },
    {
      "cell_type": "code",
      "metadata": {
        "colab_type": "code",
        "id": "lkA0Pd6vJ_IO",
        "scrolled": false,
        "colab": {},
        "outputId": "6a070480-124b-48e7-d020-be143c152727"
      },
      "source": [
        "xTrain = x_train[:40000]\n",
        "yTrain = y_train[:40000]\n",
        "\n",
        "xVal = x_train[40000:]\n",
        "yVal = y_train[40000:]\n",
        "\n",
        "\n",
        "trained_model = model.fit(xTrain, yTrain,\n",
        "          batch_size=batch_size,\n",
        "          epochs=epochs,\n",
        "          validation_data=(xVal, yVal),\n",
        "          shuffle=True)\n",
        "#validation에서 test data안 쓰려면 train data slicing 하기"
      ],
      "execution_count": null,
      "outputs": [
        {
          "output_type": "stream",
          "text": [
            "W0712 04:17:31.962199 140550987459968 deprecation.py:323] From /home/work/.local/lib/python3.6/site-packages/tensorflow/python/ops/math_grad.py:1250: add_dispatch_support.<locals>.wrapper (from tensorflow.python.ops.array_ops) is deprecated and will be removed in a future version.\n",
            "Instructions for updating:\n",
            "Use tf.where in 2.0, which has the same broadcast rule as np.where\n"
          ],
          "name": "stderr"
        },
        {
          "output_type": "stream",
          "text": [
            "Train on 40000 samples, validate on 10000 samples\n",
            "Epoch 1/20\n",
            "40000/40000 [==============================] - 133s 3ms/step - loss: 1.9902 - acc: 0.2675 - val_loss: 1.6952 - val_acc: 0.3945\n",
            "Epoch 2/20\n",
            "40000/40000 [==============================] - 130s 3ms/step - loss: 1.6677 - acc: 0.3937 - val_loss: 1.5281 - val_acc: 0.4426\n",
            "Epoch 3/20\n",
            "40000/40000 [==============================] - 133s 3ms/step - loss: 1.5104 - acc: 0.4546 - val_loss: 1.3656 - val_acc: 0.5121\n",
            "Epoch 4/20\n",
            "40000/40000 [==============================] - 126s 3ms/step - loss: 1.4036 - acc: 0.4933 - val_loss: 1.2872 - val_acc: 0.5405\n",
            "Epoch 5/20\n",
            "40000/40000 [==============================] - 124s 3ms/step - loss: 1.3151 - acc: 0.5267 - val_loss: 1.2479 - val_acc: 0.5594\n",
            "Epoch 6/20\n",
            "40000/40000 [==============================] - 131s 3ms/step - loss: 1.2491 - acc: 0.5533 - val_loss: 1.1513 - val_acc: 0.5938\n",
            "Epoch 7/20\n",
            "40000/40000 [==============================] - 133s 3ms/step - loss: 1.1840 - acc: 0.5769 - val_loss: 1.1315 - val_acc: 0.6010\n",
            "Epoch 8/20\n",
            "40000/40000 [==============================] - 125s 3ms/step - loss: 1.1275 - acc: 0.6016 - val_loss: 1.0564 - val_acc: 0.6294\n",
            "Epoch 9/20\n",
            "40000/40000 [==============================] - 125s 3ms/step - loss: 1.0784 - acc: 0.6170 - val_loss: 1.0454 - val_acc: 0.6326\n",
            "Epoch 10/20\n",
            "40000/40000 [==============================] - 125s 3ms/step - loss: 1.0321 - acc: 0.6329 - val_loss: 0.9937 - val_acc: 0.6493\n",
            "Epoch 11/20\n",
            "40000/40000 [==============================] - 125s 3ms/step - loss: 0.9959 - acc: 0.6491 - val_loss: 0.9554 - val_acc: 0.6607\n",
            "Epoch 12/20\n",
            "40000/40000 [==============================] - 132s 3ms/step - loss: 0.9590 - acc: 0.6641 - val_loss: 0.9425 - val_acc: 0.6632\n",
            "Epoch 13/20\n",
            "40000/40000 [==============================] - 133s 3ms/step - loss: 0.9264 - acc: 0.6744 - val_loss: 0.8686 - val_acc: 0.6982\n",
            "Epoch 14/20\n",
            "40000/40000 [==============================] - 133s 3ms/step - loss: 0.8974 - acc: 0.6861 - val_loss: 0.8670 - val_acc: 0.6968\n",
            "Epoch 15/20\n",
            "40000/40000 [==============================] - 133s 3ms/step - loss: 0.8694 - acc: 0.6953 - val_loss: 0.8327 - val_acc: 0.7111\n",
            "Epoch 16/20\n",
            "40000/40000 [==============================] - 134s 3ms/step - loss: 0.8449 - acc: 0.7061 - val_loss: 0.8323 - val_acc: 0.7113\n",
            "Epoch 17/20\n",
            "40000/40000 [==============================] - 134s 3ms/step - loss: 0.8185 - acc: 0.7139 - val_loss: 0.8169 - val_acc: 0.7121\n",
            "Epoch 18/20\n",
            "40000/40000 [==============================] - 131s 3ms/step - loss: 0.7952 - acc: 0.7219 - val_loss: 0.8079 - val_acc: 0.7144\n",
            "Epoch 19/20\n",
            "40000/40000 [==============================] - 125s 3ms/step - loss: 0.7766 - acc: 0.7313 - val_loss: 0.8030 - val_acc: 0.7177\n",
            "Epoch 20/20\n",
            "40000/40000 [==============================] - 124s 3ms/step - loss: 0.7562 - acc: 0.7368 - val_loss: 0.7499 - val_acc: 0.7396\n"
          ],
          "name": "stdout"
        }
      ]
    },
    {
      "cell_type": "code",
      "metadata": {
        "colab_type": "code",
        "id": "KAnM6dDEKPMu",
        "colab": {}
      },
      "source": [
        "epochs_range = range(20)\n",
        "validation_accuracy = trained_model.history['val_acc']\n",
        "training_accuracy = trained_model.history['acc']"
      ],
      "execution_count": null,
      "outputs": []
    },
    {
      "cell_type": "code",
      "metadata": {
        "colab_type": "code",
        "id": "AUEiUJm3KUbR",
        "colab": {},
        "outputId": "44c90456-6e94-4014-a85a-787298dcc508"
      },
      "source": [
        "import matplotlib.pyplot as plt\n",
        "\n",
        "plt.plot(epochs_range, training_accuracy, 'b+', label='training accuracy')\n",
        "# ‘bo’는 파란색 점을 의미합니다\n",
        "plt.plot(epochs_range, validation_accuracy, 'bo', label='validation accuracy')\n",
        "plt.xlabel('Epochs')\n",
        "plt.ylabel('Validation accuracy')\n",
        "plt.legend()\n",
        "\n",
        "plt.show()"
      ],
      "execution_count": null,
      "outputs": [
        {
          "output_type": "display_data",
          "data": {
            "image/png": "[encoded data removed]",
            "text/plain": [
              "<Figure size 432x288 with 1 Axes>"
            ]
          },
          "metadata": {
            "tags": [],
            "needs_background": "light"
          }
        }
      ]
    },
    {
      "cell_type": "code",
      "metadata": {
        "colab_type": "code",
        "id": "aU9keG2bKY9j",
        "colab": {},
        "outputId": "baa65426-8894-46fb-f0db-5b186ad0215b"
      },
      "source": [
        "scores = model.evaluate(x_test, y_test, verbose=1)\n",
        "print('Test loss:', scores[0])\n",
        "print('Test accuracy:', scores[1])"
      ],
      "execution_count": null,
      "outputs": [
        {
          "output_type": "stream",
          "text": [
            "10000/10000 [==============================] - 6s 569us/step\n",
            "Test loss: 0.7625089873313904\n",
            "Test accuracy: 0.7332\n"
          ],
          "name": "stdout"
        }
      ]
    },
    {
      "cell_type": "code",
      "metadata": {
        "id": "n1ukn87yI9tg",
        "colab_type": "code",
        "colab": {}
      },
      "source": [
        ""
      ],
      "execution_count": null,
      "outputs": []
    }
  ]
}